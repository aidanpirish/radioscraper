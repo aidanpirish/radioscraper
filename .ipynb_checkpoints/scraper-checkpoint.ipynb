{
 "cells": [
  {
   "cell_type": "code",
   "execution_count": 1,
   "metadata": {},
   "outputs": [],
   "source": [
    "import urllib3\n",
    "from bs4 import BeautifulSoup\n",
    "import json\n",
    "\n",
    "\n",
    "\n"
   ]
  },
  {
   "cell_type": "code",
   "execution_count": 2,
   "metadata": {},
   "outputs": [
    {
     "name": "stdout",
     "output_type": "stream",
     "text": [
      "getting page # 1\n",
      "getting page # 2\n",
      "getting page # 3\n",
      "getting page # 4\n",
      "getting page # 5\n",
      "getting page # 6\n"
     ]
    }
   ],
   "source": [
    "http = urllib3.PoolManager()\n",
    "urllib3.disable_warnings()\n",
    "\n",
    "item_divs = []\n",
    "index = 1\n",
    "\n",
    "while index < 7:\n",
    "    \n",
    "    print(\"getting page #\", index)\n",
    "    page_url = 'https://krcl.org/playlist/?page={}'.format(index)\n",
    "    #class = playlistitem-name\n",
    "\n",
    "    response = http.request('GET', page_url)\n",
    "\n",
    "    soup = BeautifulSoup(response.data, 'html.parser')\n",
    "\n",
    "    item_divs = item_divs + soup.findAll(\"div\", {\"class\": \"playlistitem-name\"})\n",
    "\n",
    "    index = index+1"
   ]
  },
  {
   "cell_type": "code",
   "execution_count": 8,
   "metadata": {},
   "outputs": [
    {
     "name": "stdout",
     "output_type": "stream",
     "text": [
      "[{'artist': 'Caroline Rose', 'song': 'Soul No 5', 'album': 'Loner'}, {'artist': 'The War on Drugs', 'song': 'Baby Missiles', 'album': 'Slave Ambient'}, {'artist': 'Kurt Vile', 'song': \"Timing Is Everything (And I'm Falling Behind)\", 'album': 'Bottle It In'}, {'artist': 'Mt. Joy', 'song': 'Sheep', 'album': 'Mt. Joy'}, {'artist': 'Arcade Fire', 'song': 'I Give You Power (feat. Mavis Staples)', 'album': 'Single'}, {'artist': 'Radiohead', 'song': 'High and Dry', 'album': 'The Bends'}, {'artist': 'Janelle Monae', 'song': 'Make Me Feel', 'album': 'Dirty Computer'}, {'artist': 'Tom Misch', 'song': 'It Runs Through Me (feat. De La Soul)', 'album': 'Geography'}, {'artist': 'Local Natives', 'song': 'When Am I Gonna Lose You', 'album': 'When Am I Gonna Lose You - Single'}, {'artist': 'Bruce Springsteen', 'song': 'Spirit in the Night', 'album': 'Greetings From Asbury Park, N.J.'}, {'artist': 'The Suffers', 'song': 'Gwan', 'album': 'Make Some Room EP'}, {'artist': 'Nilufer Yanya', 'song': 'Baby Luv', 'album': 'Baby Luv EP'}, {'artist': 'Band of Horses', 'song': \"No One's Gonna Love You\", 'album': 'Cease to Begin'}, {'artist': 'Better Oblivion Community Center', 'song': 'My City', 'album': 'Better Oblivion Community Center'}, {'artist': 'Ester Phillips', 'song': 'From A Whisper To A Scream', 'album': 'Esther Phillips'}, {'artist': 'Esther Phillips', 'song': 'Use Me', 'album': 'Alone Again Naturally'}, {'artist': 'Little Esther Phillips', 'song': 'Cherry Wine', 'album': 'The True Story of Rhythm and Blues'}, {'artist': 'Jay Som', 'song': 'Baybee', 'album': 'Everybody Works'}, {'artist': 'Jessica Hernandez & The Deltas', 'song': 'Oh No', 'album': 'Telephone/Telefono'}, {'artist': 'Cat Power', 'song': 'You Get', 'album': 'Wanderer'}, {'artist': 'The Black Keys', 'song': 'LoHi', 'album': 'LoHi - Single'}, {'artist': 'Pixies', 'song': 'Here Comes Your Man', 'album': 'Doolittle'}, {'artist': 'Neko Case', 'song': 'Deep Red Bells', 'album': 'Blacklisted'}, {'artist': 'Mavis Staples', 'song': 'Little Bit', 'album': 'If All I Was Was Black'}, {'artist': 'Stevie Wonder', 'song': 'I Was Made to Love Her', 'album': 'I Was Made to Love Her'}, {'artist': 'Ben Harper and Charlie Musselwhite', 'song': 'Love And Trust', 'album': 'No Mercy In This Land'}, {'artist': 'Citizen Cope', 'song': 'Justice', 'album': 'Heroin & Helicopters'}, {'artist': 'Real Estate', 'song': \"It's Real\", 'album': 'Days'}, {'artist': 'Langhorne Slim', 'song': 'Rebel Side of Heaven', 'album': 'Langhorne Slim'}, {'artist': 'The Raconteurs', 'song': 'Sunday Driver', 'album': 'Sunday Driver - Single'}, {'artist': 'Mike Doughty', 'song': 'Sunshine', 'album': 'The Flip Is Another Honey'}, {'artist': 'Kevin Morby', 'song': 'No Halo', 'album': 'Oh My God'}, {'artist': 'Alvvays', 'song': 'Dreams Tonite', 'album': 'Antisocialites'}, {'artist': 'Broken Bells', 'song': 'Shelter', 'album': 'Shelter - Single'}, {'artist': 'Dominic Moore', 'song': 'Hubell Garidiner', 'album': 'Amateur Sketches of Famous & Important People'}, {'artist': 'Brandi Carlile', 'song': 'Every Time I Hear That Song', 'album': 'by the way, I forgive you'}, {'artist': 'Durand Jones & the Indications', 'song': 'Sea Gets Hotter', 'album': 'American Love Call'}, {'artist': 'Durand Jones & The Indications', 'song': 'Long Way Home', 'album': 'American Love Call'}, {'artist': 'The Roots', 'song': 'The Seed (2.0)', 'album': 'Phrenology'}, {'artist': 'Tash Sultana', 'song': 'Salvation', 'album': 'Flow State'}, {'artist': 'Nick Murphy (formerly Chet Faker)', 'song': 'Sanity', 'album': 'Run Fast Sleep Naked'}, {'artist': 'Shakey Graves', 'song': 'Kids These Days', 'album': \"Can't Wake Up\"}, {'artist': 'Graham Nash and David Crosby', 'song': 'Immigration Man', 'album': 'Graham Nash and David Crosby'}, {'artist': 'Damien Jurado', 'song': 'Random Fearless', 'album': 'The Horizon Just Laughed'}, {'artist': 'The Jam', 'song': 'Town Called Malice', 'album': 'The Sound of the Jam [UK]'}, {'artist': 'The Internet', 'song': 'La Di Da', 'album': 'Hive Mind'}, {'artist': 'Karen O & Danger Mouse', 'song': 'Turn The Light', 'album': 'Lux Prima'}, {'artist': '10,000 Maniacs', 'song': 'Candy Everybody Wants', 'album': 'Our Time In Eden'}, {'artist': 'Talking Heads', 'song': 'Swamp', 'album': 'Speaking in Tongues'}, {'artist': 'Glen Hansard', 'song': 'Roll On Slow', 'album': 'Between Two Shores'}, {'artist': 'Bob Marley and The Wailers', 'song': 'No Woman No Cry', 'album': 'Live Forever: Live @ Stanley Theatre Sept 23, 1980'}, {'artist': 'Little Feat', 'song': 'Fat Man in the Bathtub', 'album': 'Dixie Chicken'}, {'artist': 'Tedeschi Trucks Band', 'song': 'Signs, High Times', 'album': 'Signs'}, {'artist': 'Tom Petty & The Heartbreakers', 'song': 'For Real', 'album': 'The Best of Everything'}, {'artist': 'Widespread Panic', 'song': \"Don't Tell the Band\", 'album': \"Don't Tell the Band [2-CD] Disc 1\"}, {'artist': 'The Cactus Blossoms', 'song': \"Please Don't Call Me Crazy\", 'album': 'Easy Way'}, {'artist': 'Billy Bragg & Wilco', 'song': 'California Stars', 'album': 'Mermaid Avenue'}, {'artist': 'Elvis Costello & The Imposters', 'song': 'Mr. & Mrs. Hush', 'album': 'Look Now'}, {'artist': 'Crosby, Stills & Nash', 'song': '49 Bye-Byes', 'album': 'Crosby, Stills & Nash'}, {'artist': 'Lukas Nelson & Promise of the Real', 'song': 'Find Yourself', 'album': 'Lukas Nelson & Promise of the Real'}, {'artist': 'Grateful Dead', 'song': 'Scarlet Begonias', 'album': 'From the Mars Hotel'}, {'artist': 'Sly & the Family Stone', 'song': 'Family Affair', 'album': \"There's a Riot Goin' On\"}, {'artist': 'Laura Gibson', 'song': 'Goners', 'album': 'Goners'}, {'artist': 'Suzanne Vega', 'song': 'Cassidy', 'album': 'Deadicated- A Tribute to the Grateful Dead'}, {'artist': '10,000 Maniacs', 'song': 'Hey Jack Kerouac', 'album': 'In My Tribe'}, {'artist': 'The Highwaymen', 'song': 'The Highwayman', 'album': 'Track 18'}, {'artist': 'Jade Bird', 'song': 'Uh Huh', 'album': 'Uh Huh - Single'}, {'artist': 'The Rolling Stones', 'song': 'Sway', 'album': 'Sticky Fingers'}, {'artist': 'Peter Gabriel', 'song': 'Games Without Frontiers', 'album': 'Peter Gabriel 3 - Melt'}, {'artist': 'Beck', 'song': 'Tarantula', 'album': 'Music Inspired By The Film ROMA'}, {'artist': 'Hiss Golden Messenger', 'song': 'Rock Holy', 'album': 'Virgo Fool'}, {'artist': 'Leon Russell', 'song': 'Prince of Peace', 'album': 'Leon Russell'}, {'artist': 'Lake Street Dive', 'song': 'I Want You Back', 'album': 'Fun Machine'}, {'artist': 'Mike Scott', 'song': 'Beatles Reunion Blues', 'album': 'Unknown album (4-3-2018 5-30-58 AM)'}, {'artist': 'Talking Heads', 'song': 'Mr. Jones', 'album': 'Popular Favorites 1976-1992- Sand in the Vaseline Disc 2'}, {'artist': 'Bob Dylan', 'song': 'Mr. Tambourine Man', 'album': 'The Bootleg Series, Vol. 5- Bob Dylan Live 1975 - The Rollin'}, {'artist': 'Buffalo Springfield', 'song': 'Mr. Soul', 'album': 'Retrospective-The Best of Buffalo Springfield'}, {'artist': 'The Marvelettes', 'song': 'Please Mr. Postman', 'album': 'The Motown Box'}, {'artist': 'Jerry Jeff Walker', 'song': 'Mr. Bojangles', 'album': 'Best'}, {'artist': 'The Beatles', 'song': 'Mean Mr. Mustard', 'album': 'Abbey Road'}, {'artist': 'Dylan LeBlanc', 'song': 'Cautionary Tale', 'album': 'Cautionary Tale'}, {'artist': 'Pedro The Lion', 'song': 'Yellow Bike', 'album': 'Phoenix'}, {'artist': 'J.J. Cale', 'song': 'Bring It Back', 'album': 'Naturally'}, {'artist': 'Waylon Jennings', 'song': \"Ain't No God in Mexico\", 'album': 'Track 18'}, {'artist': 'The Faces', 'song': 'Ooh La La', 'album': 'Ooh La La'}, {'artist': 'Trey Anastasio', 'song': 'Pigtail', 'album': 'Traveler'}, {'artist': 'Durand Jones and The Indications', 'song': \"Don't You Know (feat. Aaron Frazer)\", 'album': 'American Love Call'}, {'artist': 'Durand Jones & The Indications', 'song': 'Morning in America', 'album': 'American Love Call'}, {'artist': 'Amy Winehouse', 'song': \"Valerie ['68 Version]\", 'album': 'Lioness - Hidden Treasures'}, {'artist': 'Wilco', 'song': 'You and I', 'album': 'Wilco (The Album)'}, {'artist': 'Rich Robinson', 'song': 'Down the Road', 'album': 'The Ceaseless Sight'}, {'artist': 'Gram Parsons', 'song': 'Brass Buttons', 'album': 'G.P.-Grievous Angel'}, {'artist': 'The Watson Twins', 'song': 'Hustle and Shake', 'album': 'Duo'}, {'artist': 'Field Report', 'song': 'Home (Leave The Lights On)', 'album': 'Marigolden'}, {'artist': 'Nick Drake', 'song': 'Three Hours', 'album': 'Five Leaves Left'}, {'artist': 'Donny Hathaway', 'song': 'The Ghetto Pt 1', 'album': 'Never My Love: The Anthology'}, {'artist': 'War', 'song': 'The World Is a Ghetto', 'album': 'The World Is a Ghetto'}, {'artist': 'Paul Simon', 'song': 'Hearts and Bones', 'album': 'Negotiations and Love Songs'}, {'artist': 'Rod Stewart', 'song': 'Gasoline Alley', 'album': 'xmas 2011'}, {'artist': 'John Hartford', 'song': 'All Men Want to Be Hobos', 'album': 'Down River'}, {'artist': 'Harry Nilsson', 'song': 'Dayton Ohio 1903', 'album': 'xmas 2011'}, {'artist': 'Mark Knopfler', 'song': 'Ragpickers Dream', 'album': 'xmas 2011'}, {'artist': 'Nanci Griffith', 'song': 'Across the Great Divide', 'album': 'Flyer'}, {'artist': 'Neil Young', 'song': 'Distant Camera', 'album': 'Silver & Gold'}, {'artist': 'Elton John', 'song': 'Amoreena', 'album': 'Tumbleweed Connection'}, {'artist': 'Little Feat', 'song': 'Representing the Mambo', 'album': 'Representing The Mambo'}, {'artist': 'Tommy James & the Shondells', 'song': 'Crimson and Clover', 'album': 'The Very Best of Tommy James & the Shondells'}, {'artist': 'John Lennon', 'song': 'Remember', 'album': 'John Lennon-Plastic Ono Band'}, {'artist': 'Brewer & Shipley', 'song': 'The Light', 'album': 'One Toke Over the Line- The Best of Brewer & Shipley'}, {'artist': 'Jeff Beck', 'song': 'Shape of Things to Come', 'album': 'Best of Beck'}, {'artist': 'Lord Huron', 'song': 'Wait By The River', 'album': 'Vide Noir'}, {'artist': 'Death Cab For Cutie', 'song': 'Northern Lights (Acoustic)', 'album': 'Thank You For Today'}, {'artist': 'Moby', 'song': 'We Are Made of Stars', 'album': '18'}, {'artist': 'Ray Charles', 'song': 'Tell the Truth (Live)', 'album': 'The Best of Ray Charles- The Atlantic Years'}, {'artist': 'The Jayhawks', 'song': 'She Walks In So Many Ways', 'album': 'Mockingbird Time'}, {'artist': 'Iron and Wine', 'song': 'Bitter Truth', 'album': 'Beast Epic'}, {'artist': \"Bobby 'Blue' Bland\", 'song': \"Ain't No Love in the Heart of the City\", 'album': 'The Anthology'}, {'artist': 'Robert Plant', 'song': 'Angel Dance', 'album': 'Band Of Joy'}, {'artist': 'Kurt Vile', 'song': \"Timing Is Everything (And I'm Falling Behind)\", 'album': 'Bottle It In'}, {'artist': 'Lissie', 'song': 'Best Days', 'album': 'Castles'}, {'artist': 'Phosphorescent', 'song': \"C'est La Vie No.2\", 'album': \"C'est La Vie\"}, {'artist': 'Kate Bush', 'song': 'Hounds of Love', 'album': 'Hounds of Love'}, {'artist': 'Maggie Rogers', 'song': 'Fallingwater', 'album': 'Heard It in a Past Life'}, {'artist': 'U2', 'song': 'Bad (Live)', 'album': 'Wide Awake In America'}, {'artist': 'Mark Knopfler', 'song': 'Beryl', 'album': 'Tracker'}, {'artist': 'Alvvays', 'song': 'Plimsoll Punks', 'album': 'Antisocialites'}, {'artist': 'Talking Heads', 'song': 'Pulled Up', 'album': 'Talking Heads: 77'}, {'artist': 'The War on Drugs', 'song': 'Best Night', 'album': 'Slave Ambient'}, {'artist': 'The Cure', 'song': 'Close To Me', 'album': 'Staring At The Sea-The Singles'}, {'artist': 'Lucy Dacus', 'song': 'Strange Torpedo', 'album': 'No Burden'}, {'artist': 'Pink Floyd', 'song': 'Learning To Fly', 'album': 'A Momentary Lapse Of Reason'}, {'artist': 'David Gray', 'song': 'A Tight Ship', 'album': 'Gold In A Brass Age'}, {'artist': 'La Luz', 'song': 'My Golden One', 'album': 'Floating Features'}, {'artist': 'Soccer Mommy', 'song': 'Your Dog', 'album': 'Clean'}, {'artist': 'James', 'song': 'Born of Frustration', 'album': 'Seven'}, {'artist': 'Beach House', 'song': 'Dive', 'album': '7'}, {'artist': 'My Morning Jacket', 'song': 'Off the Record', 'album': 'Z'}, {'artist': 'Ty Segall', 'song': 'Orange Color Queen', 'album': 'Ty Segall'}, {'artist': 'Dave Brubeck', 'song': 'Blue Rondo A La Turk', 'album': 'Time Out'}, {'artist': 'Raphael Saadiq', 'song': 'Good Man', 'album': \"Stone Rollin'\"}, {'artist': 'Booker T & The MGs', 'song': 'Chinese Checkers', 'album': 'Soul Dressing'}, {'artist': \"The J.B.'s\", 'song': 'Wine Spot', 'album': 'Food For Thought'}, {'artist': \"The J.B.'s\", 'song': 'To My Brother', 'album': 'Food For Thought'}, {'artist': 'The Spinners', 'song': 'The Rubberband Man', 'album': 'Happiness Is Being With The Spinners'}, {'artist': 'Stevie Wonder', 'song': 'Superstition', 'album': 'Talking Book'}, {'artist': 'James Brown', 'song': \"Sportin' Life\", 'album': 'Black Caesar'}, {'artist': 'Bill Withers', 'song': 'The Same Love That Made Me Laugh', 'album': \"+'Justments\"}, {'artist': 'Aretha Franklin', 'song': 'Today I Sing The Blues', 'album': 'Aretha'}, {'artist': 'Adrian Younge', 'song': \"It's Me\", 'album': 'OST - Marvels Luke Cage'}, {'artist': 'Marvin Gaye', 'song': \"What's Going On\", 'album': \"What's Going On\"}]\n"
     ]
    }
   ],
   "source": [
    "plays = []\n",
    "\n",
    "for item in item_divs:\n",
    "    alltext = item.findAll('h3')\n",
    "    first_line = alltext[0]\n",
    "    album = alltext[1].text\n",
    "\n",
    "    artist = first_line.findAll('b')\n",
    "    artist = artist[0].text\n",
    "\n",
    "    allstr = alltext[0].text.strip()\n",
    "    line_index = allstr.find('|')\n",
    "    song = allstr[line_index+2:]\n",
    "    \n",
    "    play = {\"artist\": artist, \"song\": song, \"album\": album}\n",
    "    plays.append(play)\n",
    "\n",
    "print(plays)"
   ]
  },
  {
   "cell_type": "code",
   "execution_count": 21,
   "metadata": {},
   "outputs": [
    {
     "name": "stdout",
     "output_type": "stream",
     "text": [
      "b'Invalid request.'\n",
      "Invalid request.\n",
      "[]\n"
     ]
    }
   ],
   "source": [
    "\n",
    "\n",
    "# rym_url = 'https://rateyourmusic.com/artist/better-oblivion-community-center'\n",
    "# #class = playlistitem-name\n",
    "\n",
    "# rym_response = http.request('GET', rym_url)\n",
    "# print(rym_response.data)\n",
    "# rym_soup = BeautifulSoup(rym_response.data, 'html.parser')\n",
    "# print(rym_soup)\n",
    "# genres = rym_soup.findAll(\"a\", {\"class\": \"genre\"})\n",
    "# print(genres)\n",
    "\n",
    "# for play in plays:\n",
    "#     play_artist = play['artist']\n",
    "#     play_artist = play_artist.replace(\" \", \"%20\")\n",
    "\n",
    "\n"
   ]
  },
  {
   "cell_type": "code",
   "execution_count": null,
   "metadata": {},
   "outputs": [],
   "source": []
  }
 ],
 "metadata": {
  "kernelspec": {
   "display_name": "Python 3",
   "language": "python",
   "name": "python3"
  },
  "language_info": {
   "codemirror_mode": {
    "name": "ipython",
    "version": 3
   },
   "file_extension": ".py",
   "mimetype": "text/x-python",
   "name": "python",
   "nbconvert_exporter": "python",
   "pygments_lexer": "ipython3",
   "version": "3.6.2"
  }
 },
 "nbformat": 4,
 "nbformat_minor": 2
}
